{
 "cells": [
  {
   "cell_type": "markdown",
   "metadata": {},
   "source": [
    "1. \n",
    "    Two matrices of size: (n,k) and (k,m)\n",
    "\n",
    "    n rows of first matrix multiplied by m columns of second matrix and there will be elementwise multiplication of these that is k times.  \n",
    "    Multiplication: n * m * k\n",
    "\n",
    "    For every row and column multiplication of k elements, there will be 1 less additions i.e., k-1.\n",
    "    Addition: n * m * (k-1)"
   ]
  },
  {
   "cell_type": "code",
   "execution_count": 35,
   "metadata": {},
   "outputs": [
    {
     "name": "stdout",
     "output_type": "stream",
     "text": [
      "time taken without numpy: 0.0008256435394287109\n",
      "time taken with numpy: 0.00038504600524902344\n"
     ]
    }
   ],
   "source": [
    "# 2. \n",
    "\n",
    "\n",
    "# without numpy\n",
    "\n",
    "import time\n",
    "# a = [[2,2], [1,1]]\n",
    "# b = [[1,2,3], [2,3,4]]\n",
    "\n",
    "a = [[2,2], [1,1], [2,2], [1,1], [2,2], [1,1]]\n",
    "b = [[1,2,3,4,5,6,7,8,9], [2,3,4,5,6,7,8,9,10]]\n",
    "\n",
    "start_time = time.time()\n",
    "rows_a, cols_a = len(a), len(a[0])\n",
    "rows_b, cols_b= len(b), len(b[0])\n",
    "res = [[0 for _ in range(cols_b)] for _ in range(rows_a)]\n",
    "\n",
    "if cols_a != rows_b:\n",
    "    raise ValueError(\"Criteria does not satisfy\")\n",
    "\n",
    "for i in range(rows_a):\n",
    "    for j in range(cols_b):\n",
    "        for k in range(cols_a):\n",
    "            res[i][j] += a[i][k] * b[k][j]\n",
    "\n",
    "time = time.time() - start_time\n",
    "# print(res)\n",
    "print(f\"time taken without numpy: {time}\")\n",
    "\n",
    "\n",
    "# with numpy\n",
    "import numpy as np\n",
    "import time\n",
    "start_time_np = time.time()\n",
    "a_np = np.array(a)\n",
    "b_np = np.array(b)\n",
    "\n",
    "res_np = np.matmul(a_np, b_np)\n",
    "time_np = time.time() - start_time_np\n",
    "\n",
    "\n",
    "# print(res_np)\n",
    "print(f\"time taken with numpy: {time_np}\")"
   ]
  },
  {
   "cell_type": "code",
   "execution_count": 36,
   "metadata": {},
   "outputs": [
    {
     "name": "stdout",
     "output_type": "stream",
     "text": [
      "[0.4458352646537933, 0.4361345996859777, 0.5160909084680007, 0.9721092445680616, 0.6744950235041477, 0.28621916469344977, 0.9135746406528913, 0.9471239158350158, 0.25348700743180996, 0.28740147470249267]\n",
      "Time taken by two-pass method: 9.316001523984596e-06\n",
      "Time taken by sorting method: 1.1434000043664128e-05\n",
      "Time taken by NumPy median routine: 0.007187605999206426\n"
     ]
    }
   ],
   "source": [
    "# 3. \n",
    "\n",
    "import numpy as np\n",
    "import timeit\n",
    "\n",
    "def find_median_two_pass(arr):\n",
    "    highest = max(arr)\n",
    "    \n",
    "    arr.remove(highest)\n",
    "    second_highest = max(arr)\n",
    "\n",
    "    median = (highest + second_highest) / 2 if len(arr) % 2 == 0 else second_highest\n",
    "    \n",
    "    return median\n",
    "\n",
    "#sorting can be used to improve the time complexity than the two-pass method\n",
    "def find_median_sorting(arr):\n",
    "    sorted_arr = sorted(arr)\n",
    "    n = len(sorted_arr)\n",
    "    return (sorted_arr[n // 2] + sorted_arr[(n - 1) // 2]) / 2 if n % 2 == 0 else sorted_arr[n // 2]\n",
    "\n",
    "\n",
    "arr = np.random.rand(10).tolist()\n",
    "print(arr)\n",
    "\n",
    "time_two_pass = timeit.timeit(lambda: find_median_two_pass(arr.copy()), number=1)\n",
    "time_sorting = timeit.timeit(lambda: find_median_sorting(arr.copy()), number=1)\n",
    "time_numpy = timeit.timeit(lambda: np.median(arr), number=100)\n",
    "\n",
    "print(\"Time taken by two-pass method:\", time_two_pass)\n",
    "print(\"Time taken by sorting method:\", time_sorting)\n",
    "print(\"Time taken by NumPy median routine:\", time_numpy)\n"
   ]
  },
  {
   "cell_type": "markdown",
   "metadata": {},
   "source": [
    "4.\n",
    "    Gradient w.r.t x\n",
    "\n",
    "    $$\n",
    "    f(x) = x^2y + y^3sin(x)\n",
    "    $$\n",
    "    $$\n",
    "    \\frac {\\partial f} {\\partial x} = 2xy + y^3cos(x)\n",
    "    $$\n",
    "\n",
    "    Gradient w.r.t y\n",
    "\n",
    "    $$\n",
    "    f(x) = x^2y + y^3sin(x)\n",
    "    $$\n",
    "    $$\n",
    "    \\frac {\\partial f} {\\partial y} = x^2 + 3y^2sin(x)\n",
    "    $$\n"
   ]
  },
  {
   "cell_type": "code",
   "execution_count": 37,
   "metadata": {},
   "outputs": [
    {
     "name": "stdout",
     "output_type": "stream",
     "text": [
      "Gradient Values of function func w.r.t. x and y respectively for given values of x and y found using jax:6.565897464752197, 14.219940185546875\n",
      "Gradient Values of function f w.r.t. x and y respectively for given values of x and y, found anyaltically:6.565897464752197, 14.219940185546875\n"
     ]
    }
   ],
   "source": [
    "# 5. \n",
    "import jax.numpy as jnp\n",
    "import jax\n",
    "\n",
    "def func(x, y):\n",
    "    return (x**2 * y) + (y**3 *(jnp.sin(x)))\n",
    "\n",
    "x_val=1.5\n",
    "y_val=2.0\n",
    "\n",
    "def analytical_grad(x,y):\n",
    "    df_dx = (2*x*y) + (y**3 * (jnp.cos(x)))\n",
    "    df_dy = (x**2) + (3* y**2 * (jnp.sin(x)))\n",
    "    return df_dx, df_dy\n",
    "\n",
    "gradient_fn = jax.grad(func, argnums=(0,1))\n",
    "gradient_jax = gradient_fn(x_val,y_val)\n",
    "grad_analytical = analytical_grad(x_val, y_val)\n",
    "\n",
    "print(f\"Gradient Values of function func w.r.t. x and y respectively for given values of x and y found using jax:{gradient_jax[0]}, {gradient_jax[1]}\") \n",
    "print(f\"Gradient Values of function f w.r.t. x and y respectively for given values of x and y, found anyaltically:{grad_analytical[0]}, {grad_analytical[1]}\")"
   ]
  },
  {
   "cell_type": "code",
   "execution_count": 38,
   "metadata": {},
   "outputs": [
    {
     "name": "stdout",
     "output_type": "stream",
     "text": [
      "Gradient Values of function f w.r.t. x and y respectively found using sympy: (2*x*y + y**3*cos(x), x**2 + 3*y**2*sin(x))\n"
     ]
    }
   ],
   "source": [
    "# 6. \n",
    "\n",
    "# from sympy import diff, symbols, sin\n",
    "import sympy\n",
    "\n",
    "x,y = sympy.symbols('x y')\n",
    "func = x**2*y + y**3 *(sympy.sin(x))\n",
    "\n",
    "df_dx_sympy = sympy.diff(func, x)\n",
    "df_dy_sympy = sympy.diff(func, y)\n",
    "\n",
    "# x_val=1.5\n",
    "# y_val=2.0\n",
    "\n",
    "# def analytical_grad(x,y):\n",
    "#     df_dx = (2*x*y) + (y**3 * (np.cos(x)))\n",
    "#     df_dy = (x**2) + (3* y**2 * (np.sin(x)))\n",
    "#     return df_dx, df_dy\n",
    "\n",
    "# grad_analytical = analytical_grad(x_val, y_val)\n",
    "\n",
    "print(f\"Gradient Values of function f w.r.t. x and y respectively found using sympy: {df_dx_sympy, df_dy_sympy}\")\n",
    "# print(grad_analytical)"
   ]
  },
  {
   "cell_type": "code",
   "execution_count": 39,
   "metadata": {},
   "outputs": [
    {
     "data": {
      "text/plain": [
       "{'2022': {'Branch1': {'RollNumber': 'RN1',\n",
       "   'Name': 'Name1',\n",
       "   'Marks': {'Maths': 100, 'English': 10}}},\n",
       " '2023': {'Branch1': {'RollNumber': 'RN1',\n",
       "   'Name': 'Name1',\n",
       "   'Marks': {'Maths': 100, 'English': 10}}},\n",
       " '2024': {'Branch1': {'RollNumber': 'RN1',\n",
       "   'Name': 'Name1',\n",
       "   'Marks': {'Maths': 100, 'English': 10}}},\n",
       " '2025': {'Branch1': {'RollNumber': 'RN1',\n",
       "   'Name': 'Name1',\n",
       "   'Marks': {'Maths': 100, 'English': 10}}}}"
      ]
     },
     "execution_count": 39,
     "metadata": {},
     "output_type": "execute_result"
    }
   ],
   "source": [
    "# 7. \n",
    "\n",
    "year=['2022', '2023', '2024', '2025']\n",
    "default = {'Branch1': {'RollNumber': 'RN1', \n",
    "                                      'Name': 'Name1', \n",
    "                                      'Marks':{'Maths': 100, 'English': 10}\n",
    "                                      }}\n",
    "\n",
    "student_record = dict.fromkeys(year, default)\n",
    "\n",
    "# student_record['2022'] = {'Branch1': {'RollNumber': 'RN1', \n",
    "#                                       'Name': 'Name1', \n",
    "#                                       'Marks':{'Maths': 100, 'English': 10}\n",
    "#                                       }, \n",
    "#                           'Branch2':{}\n",
    "#                           }\n",
    "\n",
    "# student_record['2023'] = {'Branch1': {'RollNumber': 'RN3', \n",
    "#                                       'Name': 'Name3', \n",
    "#                                       'Marks':{'Maths': 0, 'English': 100}\n",
    "#                                       }, \n",
    "#                           'Branch2':''\n",
    "#                           }\n",
    "\n",
    "# student_record['2024'] = {'Branch1': '',\n",
    "#                           'Branch2': ''}\n",
    "student_record"
   ]
  },
  {
   "cell_type": "code",
   "execution_count": 40,
   "metadata": {},
   "outputs": [
    {
     "name": "stdout",
     "output_type": "stream",
     "text": [
      "{'branch1': 1, 'branch2': 2}\n"
     ]
    }
   ],
   "source": [
    "# 8. \n",
    "\n",
    "class A(object):  \n",
    "    def __init__(self):  \n",
    "        self.branch1=1  \n",
    "        self.branch2=2  \n",
    "\n",
    "obj=A()  \n",
    "print(obj.__dict__)"
   ]
  },
  {
   "cell_type": "code",
   "execution_count": 41,
   "metadata": {},
   "outputs": [
    {
     "data": {
      "image/png": "[encoded data removed]",
      "text/plain": [
       "<Figure size 720x720 with 8 Axes>"
      ]
     },
     "metadata": {
      "needs_background": "light"
     },
     "output_type": "display_data"
    }
   ],
   "source": [
    "# 9. \n",
    "\n",
    "import matplotlib.pyplot as plt\n",
    "import numpy as np\n",
    "\n",
    "fig, ax = plt.subplots(4,2, figsize=(10,10), sharex =True)\n",
    "x = np.arange(0.5, 100.1, 0.5)\n",
    "# print(x)\n",
    "# y=x\n",
    "y=[[x, x**2], \n",
    "   [x**3 /100, np.sin(x)],\n",
    "   [np.sin(x)/x, np.log(x)]\n",
    "   ]\n",
    "   \n",
    "# print(ax[2,1], y[3][1])\n",
    "\n",
    "for i in range(ax.shape[0]-1):\n",
    "    for j in range(ax.shape[1]):\n",
    "        # print(i, j)\n",
    "        ax[i][j].plot(x, y[i][j], label='')\n",
    "\n",
    "ax[3,0].plot(np.exp(x))\n",
    "\n",
    "plt.tight_layout()\n",
    "plt.show()"
   ]
  },
  {
   "cell_type": "code",
   "execution_count": 42,
   "metadata": {},
   "outputs": [
    {
     "name": "stdout",
     "output_type": "stream",
     "text": [
      "Column: b, Std.:  0.34137\n",
      "Row: 4, Mean: 1.22194\n"
     ]
    }
   ],
   "source": [
    "# 10. \n",
    "\n",
    "import numpy as np\n",
    "import pandas as pd\n",
    "\n",
    "matrix = np.random.uniform(1, 2, size=[20,5])\n",
    "matrix_df = pd.DataFrame(matrix, columns=['a', 'b', 'c', 'd', 'e'])\n",
    "print(f\"Column: {matrix_df.std().idxmax()}, Std.: {matrix_df.std().max(): .5f}\")\n",
    "print(f\"Row: {matrix_df.mean(axis=1).idxmin()}, Mean:{matrix_df.mean(axis=1).min(): .5f}\")"
   ]
  },
  {
   "cell_type": "code",
   "execution_count": 43,
   "metadata": {},
   "outputs": [
    {
     "name": "stdout",
     "output_type": "stream",
     "text": [
      "NUmber of rows with value in f less than 8: 15\n",
      "std of lt8: 0.5366624228308395\n",
      "std of gt8: 0.3748045200138985\n"
     ]
    }
   ],
   "source": [
    "# 11. \n",
    "\n",
    "f_sum = matrix_df['a'] + matrix_df['b'] + matrix_df['c'] + matrix_df['d'] + matrix_df['e']\n",
    "# matrix_df.insert(5, \"f\", f_sum)\n",
    "matrix_df['f'] = f_sum\n",
    "matrix_df['g'] = matrix_df['f'].apply(lambda x: 'LT8' if x<8 else 'GT8')\n",
    "lt8_rows = (matrix_df['g']=='LT8').sum()\n",
    "lt8_std = matrix_df.loc[matrix_df['g']=='LT8', 'f'].std()\n",
    "gt8_std = matrix_df.loc[matrix_df['g']=='GT8', 'f'].std()\n",
    "\n",
    "print(f\"NUmber of rows with value in f less than 8: {lt8_rows}\")\n",
    "print(f\"std of lt8: {lt8_std}\")\n",
    "print(f\"std of gt8: {gt8_std}\")"
   ]
  },
  {
   "cell_type": "code",
   "execution_count": 44,
   "metadata": {},
   "outputs": [
    {
     "name": "stdout",
     "output_type": "stream",
     "text": [
      "[[11 12]\n",
      " [13 14]\n",
      " [15 16]]\n",
      "Here array b is broadcast to match the dimension of array a, resulting in element-wise multplication for each row.\n"
     ]
    }
   ],
   "source": [
    "# 12. \n",
    "\n",
    "import numpy as np\n",
    "\n",
    "arr_a = np.array([[1,2],\n",
    "                  [3,4],\n",
    "                  [5,6]])\n",
    "# arr_b = np.array([10,10,10])\n",
    "arr_b = np.array([10,10])\n",
    "\n",
    "print(arr_a + arr_b)\n",
    "print(f\"Here array b is broadcast to match the dimension of array a, resulting in element-wise multplication for each row.\")\n",
    "# np.reshape(arr_a, (2,3)), np.reshape(arr_a, (2,3))*arr_b\n"
   ]
  },
  {
   "cell_type": "code",
   "execution_count": 48,
   "metadata": {},
   "outputs": [
    {
     "name": "stdout",
     "output_type": "stream",
     "text": [
      "Min element's index without using argmin: 7\n",
      "Min element's index using argmin: 7\n"
     ]
    }
   ],
   "source": [
    "# 13. for 1-d array only\n",
    "\n",
    "array = np.array([7,8,2,6,5,10,15,0,13])\n",
    "# ele = np.min(array)\n",
    "# index = np.where(array == ele)\n",
    "\n",
    "# print(index[0])\n",
    "\n",
    "def custom_argmin(arr):\n",
    "    min_value = arr[0]\n",
    "    min_index = 0\n",
    "\n",
    "    for i in range(1, len(arr)):\n",
    "        if arr[i] < min_value:\n",
    "            min_value = arr[i]\n",
    "            min_index = i\n",
    "\n",
    "    return min_index\n",
    "\n",
    "print(f\"Min element's index without using argmin: {custom_argmin(array)}\")\n",
    "print(f\"Min element's index using argmin: {np.argmin(array)}\")"
   ]
  }
 ],
 "metadata": {
  "kernelspec": {
   "display_name": "Python 3",
   "language": "python",
   "name": "python3"
  },
  "language_info": {
   "codemirror_mode": {
    "name": "ipython",
    "version": 3
   },
   "file_extension": ".py",
   "mimetype": "text/x-python",
   "name": "python",
   "nbconvert_exporter": "python",
   "pygments_lexer": "ipython3",
   "version": "3.10.12"
  },
  "orig_nbformat": 4
 },
 "nbformat": 4,
 "nbformat_minor": 2
}
